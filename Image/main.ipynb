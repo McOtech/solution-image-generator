{
 "cells": [
  {
   "cell_type": "code",
   "execution_count": 3,
   "id": "7a27e07d-f3d8-41e3-ad02-afe1c95fabf0",
   "metadata": {},
   "outputs": [],
   "source": [
    "from PIL import Image"
   ]
  },
  {
   "cell_type": "markdown",
   "id": "e5fe2dd5-e448-4e03-8333-c182737ae030",
   "metadata": {},
   "source": [
    "### Opening images"
   ]
  },
  {
   "cell_type": "code",
   "execution_count": 4,
   "id": "d70934f0-7f0d-4488-9f8c-4d2675427222",
   "metadata": {},
   "outputs": [],
   "source": [
    "filename = \"../resources/Slide1.PNG\"\n",
    "\n",
    "img = Image.open(filename)\n",
    "img.show()"
   ]
  },
  {
   "cell_type": "markdown",
   "id": "c541f0aa-41d9-47b7-8217-80005700b9da",
   "metadata": {},
   "source": [
    "### Creating Images"
   ]
  },
  {
   "cell_type": "code",
   "execution_count": 5,
   "id": "2f7eb28d-f4c6-4f21-a9a2-641a01d5b388",
   "metadata": {},
   "outputs": [],
   "source": [
    "cimg = Image.new(\"RGB\", (400, 500), (255, 0, 0)) # creates a red image\n",
    "cimg.show()"
   ]
  },
  {
   "cell_type": "markdown",
   "id": "db0333c0-0e06-4a2f-a1db-fbfd3fafd4f3",
   "metadata": {},
   "source": [
    "### Image rotation"
   ]
  },
  {
   "cell_type": "code",
   "execution_count": 6,
   "id": "6402b0e6-f309-4159-b2e5-c3ee6d81bf42",
   "metadata": {},
   "outputs": [],
   "source": [
    "rimg = img.rotate(\n",
    "    angle=60, # angle of rotation\n",
    "    expand=True, # change the image canvas to show whole image\n",
    "    fillcolor='green', # adjust fill color to your prefference default is black\n",
    "    resample=Image.BICUBIC # for high quality of your image after rotation\n",
    ")\n",
    "rimg.show()"
   ]
  },
  {
   "cell_type": "markdown",
   "id": "4b554f5a-5607-4fbc-a1f4-2ad659eec9b1",
   "metadata": {},
   "source": [
    "### Image Resizing"
   ]
  },
  {
   "cell_type": "code",
   "execution_count": 7,
   "id": "2ee3a3f2-fe4a-4d35-994d-b9f69bcdcfb6",
   "metadata": {},
   "outputs": [],
   "source": [
    "simg = img.resize(\n",
    "    (int(img.width * 2), int(img.height * 2)), # edit image sizes\n",
    "    resample=Image.LANCZOS, # determine image quality\n",
    "    box=(20,20, 100, 100)) # resize certain areas of the image\n",
    "simg.show()"
   ]
  },
  {
   "cell_type": "markdown",
   "id": "9b1187f8-d4d8-454c-8e77-254f5cf44fed",
   "metadata": {},
   "source": [
    "### Image Blending"
   ]
  },
  {
   "cell_type": "code",
   "execution_count": 8,
   "id": "f27a9c4f-0f1d-47cf-b294-f267529dbda6",
   "metadata": {},
   "outputs": [],
   "source": [
    "filename2 = \"../resources/Slide2.PNG\"\n",
    "\n",
    "img2 = Image.open(filename2)\n",
    "\n",
    "bimg = Image.blend(img, img2, alpha=0.5)\n",
    "\n",
    "bimg.show()"
   ]
  },
  {
   "cell_type": "markdown",
   "id": "48511a36-1d31-4724-bf94-f33678a3519f",
   "metadata": {},
   "source": [
    "### Image cropping"
   ]
  },
  {
   "cell_type": "code",
   "execution_count": 34,
   "id": "5ab77388-4f62-4e31-8519-436af8587aaa",
   "metadata": {},
   "outputs": [],
   "source": [
    "imgCropped = img.crop(box=(20,20, 200, 200))\n",
    "imgCropped.show()"
   ]
  },
  {
   "cell_type": "code",
   "execution_count": null,
   "id": "5d8bcb5f-1103-4128-a887-e86ecfdca3a4",
   "metadata": {},
   "outputs": [],
   "source": []
  }
 ],
 "metadata": {
  "kernelspec": {
   "display_name": "Python 3 (ipykernel)",
   "language": "python",
   "name": "python3"
  },
  "language_info": {
   "codemirror_mode": {
    "name": "ipython",
    "version": 3
   },
   "file_extension": ".py",
   "mimetype": "text/x-python",
   "name": "python",
   "nbconvert_exporter": "python",
   "pygments_lexer": "ipython3",
   "version": "3.11.5"
  }
 },
 "nbformat": 4,
 "nbformat_minor": 5
}
