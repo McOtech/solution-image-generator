{
 "cells": [
  {
   "cell_type": "markdown",
   "id": "da76bf32-826b-4c4f-b2e9-f1e9bc1e52e3",
   "metadata": {
    "jp-MarkdownHeadingCollapsed": true
   },
   "source": [
    "### Import libraries"
   ]
  },
  {
   "cell_type": "code",
   "execution_count": 1,
   "id": "db054a21-20a5-474c-a291-9443c730c9c2",
   "metadata": {},
   "outputs": [],
   "source": [
    "from PIL import Image\n",
    "import re\n",
    "from PIL import ImageDraw\n",
    "from PIL import ImageFont\n",
    "import pandas as pd\n",
    "from os import listdir, mkdir\n",
    "from os.path import isfile, join, exists"
   ]
  },
  {
   "cell_type": "markdown",
   "id": "5b570242-34e5-4e1f-80b7-09d1e8fba306",
   "metadata": {
    "jp-MarkdownHeadingCollapsed": true
   },
   "source": [
    "### Get Iot component name"
   ]
  },
  {
   "cell_type": "code",
   "execution_count": 3,
   "id": "5c3e5636-4d51-4de7-85a9-229d79da0dc6",
   "metadata": {},
   "outputs": [],
   "source": [
    "def get_file_name(filename):\n",
    "    items = re.findall('./[a-zA-Z]*/._(.*).PNG$', filename)\n",
    "    if len(items) > 0:\n",
    "        return items[0]\n",
    "    else:\n",
    "        items = re.findall('./[a-zA-Z]*/(.*).PNG$', filename)\n",
    "        if len(items) > 0:\n",
    "            return items[0]\n",
    "        else:\n",
    "            return 'default'\n"
   ]
  },
  {
   "cell_type": "markdown",
   "id": "db8cfc07-fb3d-49db-9c36-5edbc8dbf2e5",
   "metadata": {
    "jp-MarkdownHeadingCollapsed": true
   },
   "source": [
    "### Read Ecosystem image file"
   ]
  },
  {
   "cell_type": "code",
   "execution_count": 4,
   "id": "868df4ff-edb4-478f-af2d-36400f39b269",
   "metadata": {},
   "outputs": [],
   "source": [
    "def read_ecosystem_image(filename):    \n",
    "    ecosystem_img_raw = Image.open(filename)\n",
    "    ecosystem_name = get_file_name(ecosystem_img_raw.filename)\n",
    "    ecosystem_img = ecosystem_img_raw.resize(\n",
    "        (300, 300),\n",
    "        resample=Image.BICUBIC)\n",
    "    return (ecosystem_name, ecosystem_img)\n"
   ]
  },
  {
   "cell_type": "markdown",
   "id": "287d63f8-32eb-404a-95dd-c2c208b0c3ad",
   "metadata": {
    "jp-MarkdownHeadingCollapsed": true
   },
   "source": [
    "### Read IoT component image File"
   ]
  },
  {
   "cell_type": "code",
   "execution_count": 5,
   "id": "915213bc-ee3c-4a5b-823e-197160a1aa88",
   "metadata": {},
   "outputs": [],
   "source": [
    "def read_iot_image(filename):\n",
    "    components_width = 100\n",
    "    components_height = 100\n",
    "    iot_img = Image.open(filename)\n",
    "    iot_img_name = get_file_name(iot_img.filename)\n",
    "    iot_img_resized = iot_img.resize(\n",
    "    (components_width, components_height),\n",
    "    resample=Image.BICUBIC)\n",
    "    return (iot_img_name, iot_img_resized)\n"
   ]
  },
  {
   "cell_type": "markdown",
   "id": "29caa3d8-5e18-4bee-aff2-53aa6ec41bf5",
   "metadata": {
    "jp-MarkdownHeadingCollapsed": true
   },
   "source": [
    "### Add Solution texts"
   ]
  },
  {
   "cell_type": "code",
   "execution_count": 6,
   "id": "bf43ebe8-6899-467e-880e-d20797ad64a9",
   "metadata": {},
   "outputs": [],
   "source": [
    "def get_application_text_coordinates(solutions_image, draw, text, font):\n",
    "    left,top,right,bottom = draw.textbbox((10,260), align=\"center\", text=text, font=font)\n",
    "    x = int((solutions_image.width - right) / 2)\n",
    "    y = top\n",
    "    return x, y\n",
    "\n",
    "def add_solution_texts(solutions_image, iot_component_name, application_text):\n",
    "    draw = ImageDraw.Draw(solutions_image)\n",
    "    font = ImageFont.truetype(\"arial-font/arial.ttf\", 18)\n",
    "    \n",
    "    draw.text((10, 5),iot_component_name,(255,255,255), font=font)\n",
    "    \n",
    "    x, y = get_application_text_coordinates(solutions_image, draw, application_text, font)\n",
    "    draw.text((x, y),application_text,(36, 116, 54), font=font)\n"
   ]
  },
  {
   "cell_type": "markdown",
   "id": "92cdea0a-1e56-47a8-9d37-9031099ea299",
   "metadata": {
    "jp-MarkdownHeadingCollapsed": true
   },
   "source": [
    "### Create Solution Image"
   ]
  },
  {
   "cell_type": "code",
   "execution_count": 7,
   "id": "e54435ad-b330-4869-9eac-22d967df9496",
   "metadata": {},
   "outputs": [],
   "source": [
    "def create_solution_image(ecosystem_image, sensor_image, microcontroller_image, actuator_image, iot_component_name, application_text):\n",
    "    solutions_img = Image.new(\"RGB\", (300,300))\n",
    "    components_width = int(solutions_img.width / 3)\n",
    "    components_height = int(solutions_img.height / 3)\n",
    "    solutions_img.paste(ecosystem_image, (0, 0))\n",
    "    solutions_img.paste(sensor_image, (0, components_height))\n",
    "    solutions_img.paste(microcontroller_image, (components_width, components_height))\n",
    "    solutions_img.paste(actuator_image, (components_width * 2, components_height))\n",
    "    add_solution_texts(solutions_img, iot_component_name, application_text)\n",
    "    return solutions_img\n"
   ]
  },
  {
   "cell_type": "markdown",
   "id": "e8fd153f-e165-4f71-9e0b-9e69dd625792",
   "metadata": {
    "jp-MarkdownHeadingCollapsed": true
   },
   "source": [
    "### Read sensor purpose from excell file"
   ]
  },
  {
   "cell_type": "code",
   "execution_count": 8,
   "id": "d3ceeddf-fff0-4d96-a804-9901b4e15a1c",
   "metadata": {},
   "outputs": [],
   "source": [
    "def read_applications_file(path, sheet_name):\n",
    "    df = pd.read_excel(path, sheet_name=sheet_name)    \n",
    "    df_shrunk = df.loc[:, ['Sensor', 'Actuator', 'Purpose']]\n",
    "    df_shrunk['Sensor'] = df_shrunk['Sensor'].apply(lambda x: str(x).strip().lower() if type(x) == str else None)\n",
    "    df_shrunk['Actuator'] = df_shrunk['Actuator'].apply(lambda x: str(x).strip().lower() if type(x) == str else None)\n",
    "    df_shrunk['Purpose'] = df_shrunk['Purpose'].apply(lambda x: str(x).strip() if type(x) == str else None)    \n",
    "    df_shrunk = df_shrunk.dropna(how='any')\n",
    "    return df_shrunk"
   ]
  },
  {
   "cell_type": "markdown",
   "id": "41747c24-a568-41f0-b5fb-31a6cd09df0b",
   "metadata": {
    "jp-MarkdownHeadingCollapsed": true
   },
   "source": [
    "### Fetch sensor purpose"
   ]
  },
  {
   "cell_type": "code",
   "execution_count": 9,
   "id": "5da47cdc-0ba9-4704-80ed-a6f37f987bbd",
   "metadata": {},
   "outputs": [],
   "source": [
    "def get_purpose(df, sensor, actuator):\n",
    "    sensor_df = df.query(f\"Sensor == '{sensor}'\")\n",
    "    # Get the row index of the record queried\n",
    "    result_index = list(sensor_df.to_dict()['Purpose'].keys())\n",
    "    if len(result_index) > 0:\n",
    "        purpose = sensor_df['Purpose'].get(result_index[0])\n",
    "        return purpose\n",
    "    else:\n",
    "        return ''\n"
   ]
  },
  {
   "cell_type": "markdown",
   "id": "998dbdcb-51fe-4f41-8a2b-4d880c26f87b",
   "metadata": {
    "jp-MarkdownHeadingCollapsed": true
   },
   "source": [
    "### List directory files"
   ]
  },
  {
   "cell_type": "code",
   "execution_count": 10,
   "id": "6bd5160c-ba50-411c-8960-ecd8003fa117",
   "metadata": {},
   "outputs": [],
   "source": [
    "def list_files(directory_path):\n",
    "    onlyfiles = [f for f in listdir(directory_path) if isfile(join(directory_path, f))]\n",
    "    return (directory_path, onlyfiles)\n"
   ]
  },
  {
   "cell_type": "markdown",
   "id": "58d0fb0f-13fb-47d6-b84b-f1f0ce9d8348",
   "metadata": {
    "jp-MarkdownHeadingCollapsed": true
   },
   "source": [
    "### Generate Solution images"
   ]
  },
  {
   "cell_type": "code",
   "execution_count": 12,
   "id": "62fbb575-a4b9-4dc4-84db-9264ec564a45",
   "metadata": {},
   "outputs": [],
   "source": [
    "def prepare_iot_component(components_path, solutions_base_dir, hasDir=True, isEcosystem=False):\n",
    "    (component_name, component_image) = read_ecosystem_image(components_path) if isEcosystem else read_iot_image(components_path)\n",
    "    iot_component_dir = join(solutions_base_dir, component_name)\n",
    "    if not exists(iot_component_dir) and hasDir:\n",
    "        mkdir(iot_component_dir)\n",
    "    return (component_name, component_image, iot_component_dir)\n",
    "\n",
    "def generate_solutions(filenames, solutions_path, purpose_df):\n",
    "    (sensors_dir, sensors) = filenames['sensors']\n",
    "    (microcontrollers_dir, microcontrollers) = filenames['microcontrollers']\n",
    "    (actuators_dir, actuators) = filenames['actuators']\n",
    "    (ecosystems_dir, ecosystems) = filenames['ecosystems']\n",
    "    \n",
    "    for sensor in sensors:\n",
    "        (sensor_name, sensor_image, sensor_dir) = prepare_iot_component(join(sensors_dir, sensor), solutions_path)\n",
    "        for microcontroller in microcontrollers:\n",
    "            (microcontroller_name, microcontroller_image, microcontroller_dir) = prepare_iot_component(join(microcontrollers_dir, microcontroller), sensor_dir)\n",
    "            for ecosystem in ecosystems:\n",
    "                (ecosystem_name, ecosystem_image, ecosystem_dir) = prepare_iot_component(join(ecosystems_dir, ecosystem), microcontroller_dir, isEcosystem=True)\n",
    "                for actuator in actuators:\n",
    "                    (actuator_name, actuator_image, *others) = prepare_iot_component(join(actuators_dir, actuator), ecosystem_dir, hasDir=False)\n",
    "                    purpose = get_purpose(purpose_df, sensor_name.lower(), actuator_name.lower())\n",
    "                    solutions_img = create_solution_image(ecosystem_image, sensor_image, microcontroller_image, actuator_image, sensor_name, purpose)\n",
    "                    solutions_img.save(f\"{ecosystem_dir}/{sensor_name}_{microcontroller_name}_{actuator_name}_{ecosystem_name}.png\")\n"
   ]
  },
  {
   "cell_type": "markdown",
   "id": "a35fafb4-c970-460a-b59b-e1bf4d26f91d",
   "metadata": {},
   "source": [
    "### Main"
   ]
  },
  {
   "cell_type": "code",
   "execution_count": 15,
   "id": "9e7840d2-6167-4135-abe7-e5a6292d7c85",
   "metadata": {},
   "outputs": [
    {
     "name": "stdout",
     "output_type": "stream",
     "text": [
      "Done!\n"
     ]
    }
   ],
   "source": [
    "actuators_path = './actuators'\n",
    "sensors_path = './sensors'\n",
    "microcontrollers_path = './microcontrollers'\n",
    "ecosystems_path = './ecosystems'\n",
    "purpose_df = read_applications_file('./applications-raw.xlsx', 'Application-Names')\n",
    "\n",
    "generate_solutions(\n",
    "    {\n",
    "        'sensors': list_files(sensors_path),\n",
    "        'microcontrollers': list_files(microcontrollers_path),\n",
    "        'actuators': list_files(actuators_path),\n",
    "        'ecosystems': list_files(ecosystems_path)\n",
    "    },\n",
    "    'solutions',\n",
    "    purpose_df\n",
    ")\n",
    "print('Done!')"
   ]
  },
  {
   "cell_type": "code",
   "execution_count": null,
   "id": "047a6805-a021-46f4-ab0c-3a5e1367a4c9",
   "metadata": {},
   "outputs": [],
   "source": []
  }
 ],
 "metadata": {
  "kernelspec": {
   "display_name": "Python 3 (ipykernel)",
   "language": "python",
   "name": "python3"
  },
  "language_info": {
   "codemirror_mode": {
    "name": "ipython",
    "version": 3
   },
   "file_extension": ".py",
   "mimetype": "text/x-python",
   "name": "python",
   "nbconvert_exporter": "python",
   "pygments_lexer": "ipython3",
   "version": "3.11.5"
  }
 },
 "nbformat": 4,
 "nbformat_minor": 5
}
